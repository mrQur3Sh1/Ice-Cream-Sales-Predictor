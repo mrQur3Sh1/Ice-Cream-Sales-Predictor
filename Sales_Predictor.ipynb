{
 "cells": [
  {
   "cell_type": "markdown",
   "metadata": {},
   "source": [
    "## Importing LIBRARIES "
   ]
  },
  {
   "cell_type": "code",
   "execution_count": 1,
   "metadata": {},
   "outputs": [],
   "source": [
    "import pandas as pd\n",
    "import numpy as np\n",
    "import matplotlib.pyplot as plt\n",
    "import seaborn as sns\n",
    "from sklearn.model_selection import train_test_split\n",
    "from sklearn.linear_model import LinearRegression\n",
    "from sklearn.metrics import r2_score, mean_absolute_error, mean_squared_error"
   ]
  },
  {
   "cell_type": "markdown",
   "metadata": {},
   "source": [
    "## Load the dataset"
   ]
  },
  {
   "cell_type": "code",
   "execution_count": null,
   "metadata": {},
   "outputs": [],
   "source": [
    "file_path = \"D:/Semester data/8 sem data/Data Science/Icecream Sales wr Rain and Temperature.csv\"  # Update this with your dataset path\n",
    "df = pd.read_csv(file_path)"
   ]
  },
  {
   "cell_type": "markdown",
   "metadata": {},
   "source": [
    "## First few Rows"
   ]
  },
  {
   "cell_type": "code",
   "execution_count": 3,
   "metadata": {},
   "outputs": [
    {
     "data": {
      "text/html": [
       "<div>\n",
       "<style scoped>\n",
       "    .dataframe tbody tr th:only-of-type {\n",
       "        vertical-align: middle;\n",
       "    }\n",
       "\n",
       "    .dataframe tbody tr th {\n",
       "        vertical-align: top;\n",
       "    }\n",
       "\n",
       "    .dataframe thead th {\n",
       "        text-align: right;\n",
       "    }\n",
       "</style>\n",
       "<table border=\"1\" class=\"dataframe\">\n",
       "  <thead>\n",
       "    <tr style=\"text-align: right;\">\n",
       "      <th></th>\n",
       "      <th>Temperature (F)</th>\n",
       "      <th>Ice-cream Price ($)</th>\n",
       "      <th>Number of Tourists (thousands)</th>\n",
       "      <th>Ice Cream Sales ($,thousands)</th>\n",
       "      <th>Did it rain on that day?</th>\n",
       "    </tr>\n",
       "  </thead>\n",
       "  <tbody>\n",
       "    <tr>\n",
       "      <th>0</th>\n",
       "      <td>80.6</td>\n",
       "      <td>1.0</td>\n",
       "      <td>89.5</td>\n",
       "      <td>90</td>\n",
       "      <td>No</td>\n",
       "    </tr>\n",
       "    <tr>\n",
       "      <th>1</th>\n",
       "      <td>75.2</td>\n",
       "      <td>1.0</td>\n",
       "      <td>86.4</td>\n",
       "      <td>85</td>\n",
       "      <td>No</td>\n",
       "    </tr>\n",
       "    <tr>\n",
       "      <th>2</th>\n",
       "      <td>86.0</td>\n",
       "      <td>2.0</td>\n",
       "      <td>99.2</td>\n",
       "      <td>107</td>\n",
       "      <td>No</td>\n",
       "    </tr>\n",
       "    <tr>\n",
       "      <th>3</th>\n",
       "      <td>75.2</td>\n",
       "      <td>2.0</td>\n",
       "      <td>72.4</td>\n",
       "      <td>71</td>\n",
       "      <td>Yes</td>\n",
       "    </tr>\n",
       "    <tr>\n",
       "      <th>4</th>\n",
       "      <td>60.8</td>\n",
       "      <td>2.0</td>\n",
       "      <td>71.2</td>\n",
       "      <td>65</td>\n",
       "      <td>Yes</td>\n",
       "    </tr>\n",
       "  </tbody>\n",
       "</table>\n",
       "</div>"
      ],
      "text/plain": [
       "   Temperature (F)  Ice-cream Price ($)  Number of Tourists (thousands)  \\\n",
       "0             80.6                  1.0                            89.5   \n",
       "1             75.2                  1.0                            86.4   \n",
       "2             86.0                  2.0                            99.2   \n",
       "3             75.2                  2.0                            72.4   \n",
       "4             60.8                  2.0                            71.2   \n",
       "\n",
       "   Ice Cream Sales ($,thousands) Did it rain on that day?  \n",
       "0                             90                       No  \n",
       "1                             85                       No  \n",
       "2                            107                       No  \n",
       "3                             71                      Yes  \n",
       "4                             65                      Yes  "
      ]
     },
     "execution_count": 3,
     "metadata": {},
     "output_type": "execute_result"
    }
   ],
   "source": [
    "df.head()"
   ]
  },
  {
   "cell_type": "markdown",
   "metadata": {},
   "source": [
    "## Cleaning Dataset"
   ]
  },
  {
   "cell_type": "code",
   "execution_count": null,
   "metadata": {},
   "outputs": [
    {
     "name": "stdout",
     "output_type": "stream",
     "text": [
      "\n",
      "Dataset after cleaning:\n",
      "    Temperature  Ice_Cream_Price  Tourists  Sales  Rainy_Day\n",
      "0         80.6              1.0      89.5     90          0\n",
      "1         75.2              1.0      86.4     85          0\n",
      "2         86.0              2.0      99.2    107          0\n",
      "3         75.2              2.0      72.4     71          1\n",
      "4         60.8              2.0      71.2     65          1\n",
      "\n",
      "Data types:\n",
      " Temperature        float64\n",
      "Ice_Cream_Price    float64\n",
      "Tourists           float64\n",
      "Sales                int64\n",
      "Rainy_Day            int64\n",
      "dtype: object\n"
     ]
    }
   ],
   "source": [
    "# Rename columns for easier access\n",
    "df.columns = [\"Temperature\", \"Ice_Cream_Price\", \"Tourists\", \"Sales\", \"Rainy_Day\"]\n",
    "\n",
    "# Convert categorical column ('Rainy Day') to numerical (Yes -> 1, No -> 0)\n",
    "df[\"Rainy_Day\"] = df[\"Rainy_Day\"].map({\"Yes\": 1, \"No\": 0})\n",
    "\n",
    "# Check dataset after cleaning\n",
    "print(\"\\nDataset after cleaning:\\n\", df.head())\n",
    "\n",
    "# Check data types\n",
    "print(\"\\nData types:\\n\", df.dtypes)\n"
   ]
  }
 ],
 "metadata": {
  "kernelspec": {
   "display_name": "Python 3",
   "language": "python",
   "name": "python3"
  },
  "language_info": {
   "codemirror_mode": {
    "name": "ipython",
    "version": 3
   },
   "file_extension": ".py",
   "mimetype": "text/x-python",
   "name": "python",
   "nbconvert_exporter": "python",
   "pygments_lexer": "ipython3",
   "version": "3.12.2"
  }
 },
 "nbformat": 4,
 "nbformat_minor": 2
}
